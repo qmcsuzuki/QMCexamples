{
  "nbformat": 4,
  "nbformat_minor": 0,
  "metadata": {
    "colab": {
      "provenance": [],
      "authorship_tag": "ABX9TyPPJZqtyDhh8v2gh3hiKLkq",
      "include_colab_link": true
    },
    "kernelspec": {
      "name": "python3",
      "display_name": "Python 3"
    },
    "language_info": {
      "name": "python"
    }
  },
  "cells": [
    {
      "cell_type": "markdown",
      "metadata": {
        "id": "view-in-github",
        "colab_type": "text"
      },
      "source": [
        "<a href=\"https://colab.research.google.com/github/qmcsuzuki/QMCexamples/blob/main/QMCintegration/QMCpy_firstexample.ipynb\" target=\"_parent\"><img src=\"https://colab.research.google.com/assets/colab-badge.svg\" alt=\"Open In Colab\"/></a>"
      ]
    },
    {
      "cell_type": "code",
      "execution_count": null,
      "metadata": {
        "colab": {
          "base_uri": "https://localhost:8080/"
        },
        "id": "MiIoBjrvUX0F",
        "outputId": "b382965f-2be6-44a5-bccb-e9f733d691fc"
      },
      "outputs": [
        {
          "output_type": "stream",
          "name": "stdout",
          "text": [
            "Requirement already satisfied: qmcpy in /usr/local/lib/python3.10/dist-packages (1.5)\n",
            "Requirement already satisfied: numpy>=1.17.0 in /usr/local/lib/python3.10/dist-packages (from qmcpy) (1.26.4)\n",
            "Requirement already satisfied: scipy>=1.0.0 in /usr/local/lib/python3.10/dist-packages (from qmcpy) (1.13.1)\n"
          ]
        }
      ],
      "source": [
        "!pip install qmcpy\n",
        "import qmcpy as qp\n",
        "import numpy as np\n"
      ]
    },
    {
      "cell_type": "markdown",
      "source": [
        "s = 20 次元の関数 $f(x) = \\exp(x_1 + \\cdots + x_s)$ の $[0,1]^s$ 上での数値積分をするコード"
      ],
      "metadata": {
        "id": "Tt3x2GHaTXPp"
      }
    },
    {
      "cell_type": "code",
      "source": [
        "s = 20\n",
        "sequence = qp.DigitalNetB2(s) # 点列を指定\n",
        "measure = qp.Uniform(sequence) # 分布を指定\n",
        "integrand = qp.CustomFun(measure,\n",
        "                            g=lambda X: np.exp(np.sum(X,1))\n",
        "                            ) # 被積分関数を指定\n",
        "algorithm = qp.CubQMCNetG(integrand, rel_tol=1e-3) #手法を指定\n",
        "solution,data = algorithm.integrate() # 積分を実行\n",
        "print(solution, (np.e-1)**s) # 数値解と厳密解を表示"
      ],
      "metadata": {
        "colab": {
          "base_uri": "https://localhost:8080/"
        },
        "id": "Zd14VJcAO1s6",
        "outputId": "16ac2eb8-04ed-4a05-e77c-5198e082b2be"
      },
      "execution_count": null,
      "outputs": [
        {
          "output_type": "stream",
          "name": "stdout",
          "text": [
            "[50363.89272495] 50337.071483652304\n"
          ]
        }
      ]
    }
  ]
}